{
 "cells": [
  {
   "cell_type": "code",
   "execution_count": 11,
   "metadata": {
    "ExecuteTime": {
     "end_time": "2020-08-05T10:00:09.615475Z",
     "start_time": "2020-08-05T10:00:09.612299Z"
    }
   },
   "outputs": [],
   "source": [
    "import pandas as pd\n",
    "import os"
   ]
  },
  {
   "cell_type": "code",
   "execution_count": 12,
   "metadata": {
    "ExecuteTime": {
     "end_time": "2020-08-05T10:00:10.294373Z",
     "start_time": "2020-08-05T10:00:10.289335Z"
    }
   },
   "outputs": [
    {
     "data": {
      "text/plain": [
       "'/data1/pbw_deepfake/train/dfdc_train_part_0/dfdc_train_part_0'"
      ]
     },
     "execution_count": 12,
     "metadata": {},
     "output_type": "execute_result"
    }
   ],
   "source": [
    "os.getcwd()"
   ]
  },
  {
   "cell_type": "code",
   "execution_count": 32,
   "metadata": {
    "ExecuteTime": {
     "end_time": "2020-08-05T11:01:14.102518Z",
     "start_time": "2020-08-05T11:00:34.974297Z"
    },
    "code_folding": [
     0
    ]
   },
   "outputs": [
    {
     "name": "stdout",
     "output_type": "stream",
     "text": [
      "0 fake_num 1248\n",
      "0 real_num 86\n",
      "0 ratio 14.511627906976743\n",
      "1 fake_num 1591\n",
      "1 real_num 108\n",
      "1 ratio 14.731481481481481\n",
      "2 fake_num 1518\n",
      "2 real_num 230\n",
      "2 ratio 6.6\n",
      "3 fake_num 1236\n",
      "3 real_num 219\n",
      "3 ratio 5.6438356164383565\n",
      "4 fake_num 1518\n",
      "4 real_num 183\n",
      "4 ratio 8.295081967213115\n",
      "5 fake_num 2123\n",
      "5 real_num 360\n",
      "5 ratio 5.897222222222222\n",
      "6 fake_num 3041\n",
      "6 real_num 423\n",
      "6 ratio 7.1891252955082745\n",
      "7 fake_num 2135\n",
      "7 real_num 338\n",
      "7 ratio 6.316568047337278\n",
      "8 fake_num 1539\n",
      "8 real_num 277\n",
      "8 ratio 5.555956678700361\n",
      "9 fake_num 1448\n",
      "9 real_num 288\n",
      "9 ratio 5.027777777777778\n",
      "10 fake_num 2813\n",
      "10 real_num 379\n",
      "10 ratio 7.422163588390501\n",
      "11 fake_num 1759\n",
      "11 real_num 359\n",
      "11 ratio 4.899721448467966\n",
      "12 fake_num 1905\n",
      "12 real_num 320\n",
      "12 ratio 5.953125\n",
      "13 fake_num 3264\n",
      "13 real_num 430\n",
      "13 ratio 7.590697674418605\n",
      "14 fake_num 2119\n",
      "14 real_num 345\n",
      "14 ratio 6.142028985507246\n",
      "15 fake_num 1875\n",
      "15 real_num 398\n",
      "15 ratio 4.711055276381909\n",
      "16 fake_num 1696\n",
      "16 real_num 365\n",
      "16 ratio 4.646575342465753\n",
      "17 fake_num 2009\n",
      "17 real_num 421\n",
      "17 ratio 4.771971496437055\n",
      "18 fake_num 2261\n",
      "18 real_num 425\n",
      "18 ratio 5.32\n",
      "19 fake_num 2329\n",
      "19 real_num 423\n",
      "19 ratio 5.505910165484633\n",
      "20 fake_num 1748\n",
      "20 real_num 406\n",
      "20 ratio 4.305418719211823\n",
      "21 fake_num 1920\n",
      "21 real_num 348\n",
      "21 ratio 5.517241379310345\n",
      "22 fake_num 1918\n",
      "22 real_num 491\n",
      "22 ratio 3.9063136456211813\n",
      "23 fake_num 1999\n",
      "23 real_num 411\n",
      "23 ratio 4.86374695863747\n",
      "24 fake_num 2347\n",
      "24 real_num 439\n",
      "24 ratio 5.34624145785877\n",
      "25 fake_num 2132\n",
      "25 real_num 414\n",
      "25 ratio 5.14975845410628\n",
      "26 fake_num 2023\n",
      "26 real_num 410\n",
      "26 ratio 4.934146341463415\n",
      "27 fake_num 1944\n",
      "27 real_num 409\n",
      "27 ratio 4.7530562347188265\n",
      "28 fake_num 1693\n",
      "28 real_num 392\n",
      "28 ratio 4.3188775510204085\n",
      "29 fake_num 2106\n",
      "29 real_num 451\n",
      "29 ratio 4.669623059866963\n",
      "30 fake_num 1739\n",
      "30 real_num 497\n",
      "30 ratio 3.4989939637826963\n",
      "31 fake_num 2058\n",
      "31 real_num 412\n",
      "31 ratio 4.995145631067961\n",
      "32 fake_num 1904\n",
      "32 real_num 452\n",
      "32 ratio 4.212389380530974\n",
      "33 fake_num 1884\n",
      "33 real_num 390\n",
      "33 ratio 4.8307692307692305\n",
      "34 fake_num 2242\n",
      "34 real_num 416\n",
      "34 ratio 5.389423076923077\n",
      "35 fake_num 2126\n",
      "35 real_num 414\n",
      "35 ratio 5.1352657004830915\n",
      "36 fake_num 1975\n",
      "36 real_num 364\n",
      "36 ratio 5.425824175824176\n",
      "37 fake_num 2189\n",
      "37 real_num 466\n",
      "37 ratio 4.697424892703863\n",
      "38 fake_num 2026\n",
      "38 real_num 451\n",
      "38 ratio 4.492239467849224\n",
      "39 fake_num 2140\n",
      "39 real_num 416\n",
      "39 ratio 5.144230769230769\n",
      "40 fake_num 1965\n",
      "40 real_num 455\n",
      "40 ratio 4.318681318681318\n",
      "41 fake_num 1818\n",
      "41 real_num 404\n",
      "41 ratio 4.5\n",
      "42 fake_num 1947\n",
      "42 real_num 437\n",
      "42 ratio 4.45537757437071\n",
      "43 fake_num 2129\n",
      "43 real_num 417\n",
      "43 ratio 5.105515587529976\n",
      "44 fake_num 2230\n",
      "44 real_num 435\n",
      "44 ratio 5.126436781609195\n",
      "45 fake_num 1914\n",
      "45 real_num 432\n",
      "45 ratio 4.430555555555555\n",
      "46 fake_num 1813\n",
      "46 real_num 389\n",
      "46 ratio 4.660668380462725\n",
      "47 fake_num 1984\n",
      "47 real_num 422\n",
      "47 ratio 4.701421800947867\n",
      "48 fake_num 2041\n",
      "48 real_num 422\n",
      "48 ratio 4.8364928909952605\n",
      "49 fake_num 2619\n",
      "49 real_num 515\n",
      "49 ratio 5.085436893203884\n",
      "total ratio 100000 / 19154 = 5.220841599665866\n"
     ]
    }
   ],
   "source": [
    "# 计算真假数据的比例\n",
    "# os.chdir(\"../../../data1/pbw_deepfake/train/dfdc_train_part_0/dfdc_train_part_0/\")\n",
    "fake_sum = 0\n",
    "real_sum = 0\n",
    "for i in range(50):\n",
    "    os.chdir(\"../../dfdc_train_part_%d/dfdc_train_part_%d/\" % (i, i))\n",
    "    metadata = pd.read_json(\"./metadata.json\")\n",
    "    fake_num = 0\n",
    "    real_num = 0\n",
    "    for item in metadata.iloc[0, :]:\n",
    "        if item == \"FAKE\":\n",
    "            fake_num += 1\n",
    "        else:\n",
    "            real_num += 1\n",
    "    fake_sum += fake_num\n",
    "    real_sum += real_num\n",
    "    print(i, \"fake_num\", fake_num)\n",
    "    print(i, \"real_num\", real_num)\n",
    "    print(i, \"ratio\", fake_num/real_num)\n",
    "print(\"total ratio\", fake_sum, \"/\", real_sum, \"=\", fake_sum/real_sum)\n",
    "# the final ratio is 5.2"
   ]
  }
 ],
 "metadata": {
  "kernelspec": {
   "display_name": "Python 3.7.6 64-bit ('mtcnn': conda)",
   "language": "python",
   "name": "python37664bitmtcnnconda9d1b84ed94274c82bf8353d472d37ed4"
  },
  "language_info": {
   "codemirror_mode": {
    "name": "ipython",
    "version": 3
   },
   "file_extension": ".py",
   "mimetype": "text/x-python",
   "name": "python",
   "nbconvert_exporter": "python",
   "pygments_lexer": "ipython3",
   "version": "3.7.6"
  }
 },
 "nbformat": 4,
 "nbformat_minor": 4
}
