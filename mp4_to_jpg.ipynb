{
 "cells": [
  {
   "cell_type": "code",
   "execution_count": 1,
   "metadata": {
    "ExecuteTime": {
     "end_time": "2020-08-06T13:13:11.057655Z",
     "start_time": "2020-08-06T13:13:11.052124Z"
    },
    "code_folding": [
     0
    ]
   },
   "outputs": [],
   "source": [
    "#coding=gbk\n",
    "import cv2\n",
    "import os, sys, stat\n",
    "import time\n",
    "from tqdm import tqdm\n",
    "import pandas as pd\n"
   ]
  },
  {
   "cell_type": "code",
   "execution_count": 2,
   "metadata": {
    "ExecuteTime": {
     "end_time": "2020-08-06T13:13:11.956409Z",
     "start_time": "2020-08-06T13:13:11.950599Z"
    },
    "code_folding": [
     0
    ]
   },
   "outputs": [],
   "source": [
    "#提取离散帧和连续帧\n",
    "\n",
    "#离散帧\n",
    "#real：5-250\n",
    "#fake：5-50\n",
    "\n",
    "#连续帧\n",
    "#real：50-99\n",
    "#fake：90-99\n",
    "\n",
    "# discrete_real_list=[]\n",
    "# for i in range(5,251,5):\n",
    "#     discrete_real_list.append(i)\n",
    "# discrete_fake_list=[]\n",
    "# for i in range(5,51,5):\n",
    "#     discrete_fake_list.append(i)\n",
    "# consecutive_real_list=[]\n",
    "# for i in range(50,100):\n",
    "#     consecutive_real_list.append(i)\n",
    "# consecutive_fake_list=[]\n",
    "# for i in range(90,100):\n",
    "#     consecutive_fake_list.append(i)\n",
    "\n",
    "discrete_real_list=[]\n",
    "for i in range(64):\n",
    "    discrete_real_list.append(i)\n",
    "discrete_fake_list=[]\n",
    "for i in range(64):\n",
    "    discrete_fake_list.append(i)\n",
    "consecutive_real_list=[]\n",
    "for i in range(64):\n",
    "    consecutive_real_list.append(i)\n",
    "consecutive_fake_list=[]\n",
    "for i in range(64):\n",
    "    consecutive_fake_list.append(i)\n",
    "#print(discrete_real_list,\"\\n\",discrete_fake_list,\"\\n\",consecutive_real_list,\"\\n\",consecutive_fake_list)"
   ]
  },
  {
   "cell_type": "code",
   "execution_count": 3,
   "metadata": {
    "ExecuteTime": {
     "start_time": "2020-08-07T00:43:40.809Z"
    },
    "code_folding": [],
    "scrolled": false,
    "tags": []
   },
   "outputs": [
    {
     "output_type": "stream",
     "name": "stderr",
     "text": [
      "  1%|          | 20/1703 [01:53<2:38:55,  5.67s/it]\n"
     ]
    },
    {
     "output_type": "error",
     "ename": "KeyboardInterrupt",
     "evalue": "",
     "traceback": [
      "\u001b[0;31m---------------------------------------------------------------------------\u001b[0m",
      "\u001b[0;31mKeyboardInterrupt\u001b[0m                         Traceback (most recent call last)",
      "\u001b[0;32m<ipython-input-3-a265b722f970>\u001b[0m in \u001b[0;36m<module>\u001b[0;34m\u001b[0m\n\u001b[1;32m     31\u001b[0m                         \u001b[0;32mif\u001b[0m \u001b[0msuc\u001b[0m \u001b[0;32mand\u001b[0m \u001b[0mframe_count\u001b[0m \u001b[0;32min\u001b[0m \u001b[0mdiscrete_fake_list\u001b[0m\u001b[0;34m:\u001b[0m\u001b[0;34m\u001b[0m\u001b[0;34m\u001b[0m\u001b[0m\n\u001b[1;32m     32\u001b[0m                             \u001b[0;31m#print('discrete_fake_list')\u001b[0m\u001b[0;34m\u001b[0m\u001b[0;34m\u001b[0m\u001b[0;34m\u001b[0m\u001b[0m\n\u001b[0;32m---> 33\u001b[0;31m                             \u001b[0mcv2\u001b[0m\u001b[0;34m.\u001b[0m\u001b[0mimwrite\u001b[0m\u001b[0;34m(\u001b[0m\u001b[0mos\u001b[0m\u001b[0;34m.\u001b[0m\u001b[0mpath\u001b[0m\u001b[0;34m.\u001b[0m\u001b[0mjoin\u001b[0m\u001b[0;34m(\u001b[0m\u001b[0;34m\"/data2/pbw_dfdc/experiment_3/discrete/train/\"\u001b[0m\u001b[0;34m+\u001b[0m\u001b[0mmetadata\u001b[0m\u001b[0;34m.\u001b[0m\u001b[0mloc\u001b[0m\u001b[0;34m[\u001b[0m\u001b[0;34m'label'\u001b[0m\u001b[0;34m]\u001b[0m\u001b[0;34m[\u001b[0m\u001b[0mfilename\u001b[0m\u001b[0;34m]\u001b[0m\u001b[0;34m+\u001b[0m\u001b[0;34m\"/pic_\"\u001b[0m\u001b[0;34m+\u001b[0m\u001b[0mstr\u001b[0m\u001b[0;34m(\u001b[0m\u001b[0mnum\u001b[0m\u001b[0;34m)\u001b[0m\u001b[0;34m+\u001b[0m\u001b[0;34m\"/\"\u001b[0m\u001b[0;34m+\u001b[0m\u001b[0mfilename\u001b[0m\u001b[0;34m[\u001b[0m\u001b[0;34m:\u001b[0m\u001b[0;34m-\u001b[0m\u001b[0;36m4\u001b[0m\u001b[0;34m]\u001b[0m\u001b[0;34m+\u001b[0m\u001b[0;34m\"_jpg/%d.jpg\"\u001b[0m \u001b[0;34m%\u001b[0m \u001b[0mframe_count\u001b[0m\u001b[0;34m)\u001b[0m\u001b[0;34m,\u001b[0m \u001b[0mframe\u001b[0m\u001b[0;34m)\u001b[0m\u001b[0;34m\u001b[0m\u001b[0;34m\u001b[0m\u001b[0m\n\u001b[0m\u001b[1;32m     34\u001b[0m                     \u001b[0;32melse\u001b[0m\u001b[0;34m:\u001b[0m\u001b[0;34m\u001b[0m\u001b[0;34m\u001b[0m\u001b[0m\n\u001b[1;32m     35\u001b[0m                         \u001b[0;32mif\u001b[0m \u001b[0msuc\u001b[0m \u001b[0;32mand\u001b[0m \u001b[0mframe_count\u001b[0m \u001b[0;32min\u001b[0m \u001b[0mconsecutive_real_list\u001b[0m\u001b[0;34m:\u001b[0m\u001b[0;34m\u001b[0m\u001b[0;34m\u001b[0m\u001b[0m\n",
      "\u001b[0;31mKeyboardInterrupt\u001b[0m: "
     ]
    }
   ],
   "source": [
    "#主程序\n",
    "for num in range(0,49):\n",
    "    metadata = pd.read_json(\n",
    "        \"/data1/pbw_deepfake/train/dfdc_train_part_%d/dfdc_train_part_%d/metadata.json\" % (num, num))\n",
    "    # metadata\n",
    "    g = os.walk(\n",
    "        \"/data1/pbw_deepfake/train/dfdc_train_part_%d/dfdc_train_part_%d/\" % (num, num))\n",
    "    for path, d, filelist in g:\n",
    "        for filename in tqdm(filelist):\n",
    "            if filename.endswith('mp4'):\n",
    "                a = os.path.join(path, filename)\n",
    "                #print(a)\n",
    "                if not os.path.exists(\"/data2/pbw_dfdc/experiment_3/consecutive/train/\"+metadata.loc['label'][filename]+\"/pic_\"+str(num)+\"/\"+filename[:-4]+\"_jpg\"):\n",
    "                    os.makedirs(\"/data2/pbw_dfdc/experiment_3/consecutive/train/\"+metadata.loc['label'][filename]+\"/pic_\"+str(num)+\"/\"+filename[:-4]+\"_jpg\", 777)\n",
    "                    os.chmod(\"/data2/pbw_dfdc/experiment_3/consecutive/train/\"+metadata.loc['label'][filename]+\"/pic_\"+str(num)+\"/\"+filename[:-4]+\"_jpg\", stat.S_IRWXU+stat.S_IRWXG+stat.S_IRWXO)\n",
    "                if not os.path.exists(\"/data2/pbw_dfdc/experiment_3/discrete/train/\"+metadata.loc['label'][filename]+\"/pic_\"+str(num)+\"/\"+filename[:-4]+\"_jpg\"):\n",
    "                    os.makedirs(\"/data2/pbw_dfdc/experiment_3/discrete/train/\"+metadata.loc['label'][filename]+\"/pic_\"+str(num)+\"/\"+filename[:-4]+\"_jpg\", 777)\n",
    "                    os.chmod(\"/data2/pbw_dfdc/experiment_3/discrete/train/\"+metadata.loc['label'][filename]+\"/pic_\"+str(num)+\"/\"+filename[:-4]+\"_jpg\", stat.S_IRWXU+stat.S_IRWXG+stat.S_IRWXO)\n",
    "                cap = cv2.VideoCapture(\"/data1/pbw_deepfake/train/dfdc_train_part_%d/dfdc_train_part_%d/\" % (num, num)+filename)\n",
    "                suc = cap.isOpened()\n",
    "                frame_count = 0\n",
    "                #print(suc)\n",
    "                while suc:\n",
    "                    frame_count += 1\n",
    "                    suc, frame = cap.read()\n",
    "                    #print(frame_count)\n",
    "                    if metadata.loc['label'][filename]=='FAKE':\n",
    "                        if suc and frame_count in consecutive_fake_list:\n",
    "                            #print('consecutive_fake_list')\n",
    "                            cv2.imwrite(os.path.join(\"/data2/pbw_dfdc/experiment_3/consecutive/train/\"+metadata.loc['label'][filename]+\"/pic_\"+str(num)+\"/\"+filename[:-4]+\"_jpg/%d.jpg\" % frame_count), frame)\n",
    "                        if suc and frame_count in discrete_fake_list:\n",
    "                            #print('discrete_fake_list')\n",
    "                            cv2.imwrite(os.path.join(\"/data2/pbw_dfdc/experiment_3/discrete/train/\"+metadata.loc['label'][filename]+\"/pic_\"+str(num)+\"/\"+filename[:-4]+\"_jpg/%d.jpg\" % frame_count), frame)\n",
    "                    else:\n",
    "                        if suc and frame_count in consecutive_real_list:\n",
    "                            #print('consecutive_real_list')\n",
    "                            cv2.imwrite(os.path.join(\"/data2/pbw_dfdc/experiment_3/consecutive/train/\"+metadata.loc['label'][filename]+\"/pic_\"+str(num)+\"/\"+filename[:-4]+\"_jpg/%d.jpg\" % frame_count), frame)\n",
    "                        if suc and frame_count in discrete_real_list:\n",
    "                            #print('discrete_real_list')\n",
    "                            cv2.imwrite(os.path.join(\"/data2/pbw_dfdc/experiment_3/discrete/train/\"+metadata.loc['label'][filename]+\"/pic_\"+str(num)+\"/\"+filename[:-4]+\"_jpg/%d.jpg\" % frame_count), frame)\n",
    "                cap.release()\n",
    "                #print(\"unlock mp4: \", frame_count-1)"
   ]
  },
  {
   "cell_type": "code",
   "execution_count": null,
   "metadata": {},
   "outputs": [],
   "source": []
  }
 ],
 "metadata": {
  "kernelspec": {
   "display_name": "Python 3.7.6 64-bit ('mtcnn': conda)",
   "language": "python",
   "name": "python37664bitmtcnnconda9d1b84ed94274c82bf8353d472d37ed4"
  },
  "language_info": {
   "codemirror_mode": {
    "name": "ipython",
    "version": 3
   },
   "file_extension": ".py",
   "mimetype": "text/x-python",
   "name": "python",
   "nbconvert_exporter": "python",
   "pygments_lexer": "ipython3",
   "version": "3.7.6-final"
  }
 },
 "nbformat": 4,
 "nbformat_minor": 4
}