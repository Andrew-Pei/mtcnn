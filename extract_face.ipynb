{
 "cells": [
  {
   "cell_type": "code",
   "execution_count": 32,
   "metadata": {
    "ExecuteTime": {
     "end_time": "2020-08-07T03:12:40.886087Z",
     "start_time": "2020-08-07T03:12:40.795226Z"
    }
   },
   "outputs": [
    {
     "name": "stdout",
     "output_type": "stream",
     "text": [
      "50.jpg\n"
     ]
    },
    {
     "ename": "TypeError",
     "evalue": "'JpegImageFile' object is not subscriptable",
     "output_type": "error",
     "traceback": [
      "\u001b[0;31m---------------------------------------------------------------------------\u001b[0m",
      "\u001b[0;31mTypeError\u001b[0m                                 Traceback (most recent call last)",
      "\u001b[0;32m<ipython-input-32-ab4bb966616e>\u001b[0m in \u001b[0;36m<module>\u001b[0;34m\u001b[0m\n\u001b[1;32m     15\u001b[0m         \u001b[0mprint\u001b[0m\u001b[0;34m(\u001b[0m\u001b[0mfname\u001b[0m\u001b[0;34m)\u001b[0m\u001b[0;34m\u001b[0m\u001b[0;34m\u001b[0m\u001b[0m\n\u001b[1;32m     16\u001b[0m         \u001b[0mimg\u001b[0m \u001b[0;34m=\u001b[0m \u001b[0mImage\u001b[0m\u001b[0;34m.\u001b[0m\u001b[0mopen\u001b[0m\u001b[0;34m(\u001b[0m\u001b[0mos\u001b[0m\u001b[0;34m.\u001b[0m\u001b[0mpath\u001b[0m\u001b[0;34m.\u001b[0m\u001b[0mjoin\u001b[0m\u001b[0;34m(\u001b[0m\u001b[0mdname\u001b[0m\u001b[0;34m,\u001b[0m\u001b[0mfname\u001b[0m\u001b[0;34m)\u001b[0m\u001b[0;34m)\u001b[0m\u001b[0;34m\u001b[0m\u001b[0;34m\u001b[0m\u001b[0m\n\u001b[0;32m---> 17\u001b[0;31m         \u001b[0mbounding_boxes\u001b[0m\u001b[0;34m,\u001b[0m \u001b[0mlandmarks\u001b[0m \u001b[0;34m=\u001b[0m \u001b[0mdetect_faces\u001b[0m\u001b[0;34m(\u001b[0m\u001b[0mimg\u001b[0m\u001b[0;34m)\u001b[0m\u001b[0;34m\u001b[0m\u001b[0;34m\u001b[0m\u001b[0m\n\u001b[0m\u001b[1;32m     18\u001b[0m         \u001b[0mshow_bboxes\u001b[0m\u001b[0;34m(\u001b[0m\u001b[0mimg\u001b[0m\u001b[0;34m,\u001b[0m \u001b[0mbounding_boxes\u001b[0m\u001b[0;34m,\u001b[0m \u001b[0mlandmarks\u001b[0m\u001b[0;34m)\u001b[0m\u001b[0;34m\u001b[0m\u001b[0;34m\u001b[0m\u001b[0m\n\u001b[1;32m     19\u001b[0m         \u001b[0;32mif\u001b[0m \u001b[0mlen\u001b[0m\u001b[0;34m(\u001b[0m\u001b[0mbounding_boxes\u001b[0m\u001b[0;34m)\u001b[0m\u001b[0;34m:\u001b[0m\u001b[0;34m\u001b[0m\u001b[0;34m\u001b[0m\u001b[0m\n",
      "\u001b[0;32m~/mtcnn-pytorch/src/detector.py\u001b[0m in \u001b[0;36mdetect_faces\u001b[0;34m(images, min_face_size, thresholds, nms_thresholds)\u001b[0m\n\u001b[1;32m     35\u001b[0m \u001b[0;34m\u001b[0m\u001b[0m\n\u001b[1;32m     36\u001b[0m     \u001b[0;31m# scales for scaling the image\u001b[0m\u001b[0;34m\u001b[0m\u001b[0;34m\u001b[0m\u001b[0;34m\u001b[0m\u001b[0m\n\u001b[0;32m---> 37\u001b[0;31m     \u001b[0mscales\u001b[0m \u001b[0;34m=\u001b[0m \u001b[0;34m[\u001b[0m\u001b[0;34m]\u001b[0m\u001b[0;34m\u001b[0m\u001b[0;34m\u001b[0m\u001b[0m\n\u001b[0m\u001b[1;32m     38\u001b[0m \u001b[0;34m\u001b[0m\u001b[0m\n\u001b[1;32m     39\u001b[0m     \u001b[0;31m# scales the image so that\u001b[0m\u001b[0;34m\u001b[0m\u001b[0;34m\u001b[0m\u001b[0;34m\u001b[0m\u001b[0m\n",
      "\u001b[0;31mTypeError\u001b[0m: 'JpegImageFile' object is not subscriptable"
     ]
    }
   ],
   "source": [
    "# %load ex.py\n",
    "from src import detect_faces, show_bboxes\n",
    "from PIL import Image\n",
    "import os, sys, stat\n",
    "import glob\n",
    "#import tqdm\n",
    "\n",
    "for dname in glob.glob(\"/data2/pbw_dfdc/experiment_1/*/*/*/pic_0/*_jpg\",recursive=True):\n",
    "    name=dname.replace(\"experiment_1\",\"experiment_2\")\n",
    "    #print(name)\n",
    "    if not os.path.exists(name):\n",
    "        os.makedirs(name,777)\n",
    "        os.chmod(name,stat.S_IRWXU+stat.S_IRWXG+stat.S_IRWXO)\n",
    "    for fname in os.listdir(dname):\n",
    "        print(fname)\n",
    "        img = Image.open(os.path.join(dname,fname))\n",
    "        bounding_boxes, landmarks = detect_faces(img)\n",
    "        show_bboxes(img, bounding_boxes, landmarks)\n",
    "        if len(bounding_boxes):\n",
    "            pass\n",
    "#             if bounding_boxes.size!=0:\n",
    "#                 bb=bounding_boxes[0]\n",
    "#                 #print(bb)\n",
    "#                 w1=bb[0]\n",
    "#                 h1=bb[1]\n",
    "#                 w2=bb[2]\n",
    "#                 h2=bb[3]\n",
    "#                 aa=[]        \n",
    "#                 w3=w1-0.1*(w2-w1)\n",
    "#                 h3=h1-0.2*(h2-h1)\n",
    "#                 w4=w2+0.3*(w2-w1)\n",
    "#                 h4=h2+0.2*(h2-h1)\n",
    "#                 if (h4-h3)>(w4-w3):\n",
    "#                     w3-=0.5*((h4-h3)-(w4-w3))\n",
    "#                     w4+=0.5*((h4-h3)-(w4-w3))\n",
    "#                 if (h4-h3)>(w4-w3):\n",
    "#                     w3-=0.5*((h4-h3)-(w4-w3))\n",
    "#                     w4+=0.5*((h4-h3)-(w4-w3))\n",
    "#                 if (h4-h3)>(w4-w3):\n",
    "#                     w3-=0.5*((h4-h3)-(w4-w3))\n",
    "#                     w4+=0.5*((h4-h3)-(w4-w3))\n",
    "#                 if w3<0:\n",
    "#                     w3=0        \n",
    "#                 if h3<0:\n",
    "#                     h3=0        \n",
    "#                 if w4>img.size[0]:\n",
    "#                     w4=img.size[0]\n",
    "#                 if h4>img.size[1]:\n",
    "#                     h4=img.size[1]\n",
    "#                 aa.append(w3)\n",
    "#                 aa.append(h3)\n",
    "#                 aa.append(w4)\n",
    "#                 aa.append(h4)\n",
    "#                 #print(w3)\n",
    "#                 #print(h3)\n",
    "#                 #print(w4-w3)\n",
    "#                 #print(h4-h3)\n",
    "                \n",
    "#                 face=img.crop(aa[:4])\n",
    "#                 #face.show()\n",
    "#                 #print(face.size)\n",
    "#                 face.save(os.path.join(\"/data1/pbw_deepfake/test/extract_face_jpg/0\",dname[27:-4],fname))#TODO\n",
    "#                 print(\"saved\")\n",
    "#             else:\n",
    "#                 print(\"no face found!\")\n",
    "#         else:\n",
    "#             print(\"bounding_boxes is empty!\")"
   ]
  },
  {
   "cell_type": "code",
   "execution_count": null,
   "metadata": {},
   "outputs": [],
   "source": []
  }
 ],
 "metadata": {
  "kernelspec": {
   "display_name": "Python 3.7.6 64-bit ('mtcnn': conda)",
   "language": "python",
   "name": "python37664bitmtcnnconda9d1b84ed94274c82bf8353d472d37ed4"
  },
  "language_info": {
   "codemirror_mode": {
    "name": "ipython",
    "version": 3
   },
   "file_extension": ".py",
   "mimetype": "text/x-python",
   "name": "python",
   "nbconvert_exporter": "python",
   "pygments_lexer": "ipython3",
   "version": "3.7.6"
  }
 },
 "nbformat": 4,
 "nbformat_minor": 4
}
